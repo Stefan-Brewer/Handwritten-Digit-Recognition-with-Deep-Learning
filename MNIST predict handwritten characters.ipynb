{
 "cells": [
  {
   "cell_type": "markdown",
   "id": "168c1b27-c7db-4a7e-93a2-b8160e2073a3",
   "metadata": {},
   "source": [
    "### Predicting handwritten digits using deep learning"
   ]
  },
  {
   "cell_type": "code",
   "execution_count": 8,
   "id": "cb27a9c4-646b-48a6-b564-7cfd6ad2728b",
   "metadata": {},
   "outputs": [
    {
     "name": "stdout",
     "output_type": "stream",
     "text": [
      "Training data shape: (60000, 28, 28), Training labels shape: (60000,)\n",
      "Test data shape: (10000, 28, 28), Test labels shape: (10000,)\n"
     ]
    }
   ],
   "source": [
    "import pandas as pd\n",
    "import numpy as np\n",
    "import matplotlib.pyplot as plt\n",
    "from tensorflow.keras.datasets import mnist\n",
    "from sklearn.model_selection import train_test_split\n",
    "\n",
    "# Let's load the dataset using keras\n",
    "(train_images, train_labels), (test_images,test_labels) = mnist.load_data()\n",
    "\n",
    "# Display the shape of the dataset\n",
    "print(f\"Training data shape: {train_images.shape}, Training labels shape: {train_labels.shape}\")\n",
    "print(f\"Test data shape: {test_images.shape}, Test labels shape: {test_labels.shape}\")"
   ]
  },
  {
   "cell_type": "markdown",
   "id": "fc6fb8a6-50b0-400b-88a9-fc7f12e7a6ca",
   "metadata": {},
   "source": [
    "### Visualizing the data"
   ]
  },
  {
   "cell_type": "code",
   "execution_count": 9,
   "id": "0eab748b-6bc9-470f-9b3a-9014e00ad957",
   "metadata": {},
   "outputs": [
    {
     "data": {
      "image/png": "[encoded data removed]",
      "text/plain": [
       "<Figure size 500x500 with 2 Axes>"
      ]
     },
     "metadata": {},
     "output_type": "display_data"
    },
    {
     "name": "stdout",
     "output_type": "stream",
     "text": [
      "Min pixel value: 0\n",
      "Max pixel value: 255\n"
     ]
    }
   ],
   "source": [
    "# This is the first time taking a look at the MNIST dataset , so I want to take a good look at what the data looks like.\n",
    "\n",
    "# Let's look at the first image\n",
    "plt.figure(figsize=(5,5))\n",
    "plt.imshow(train_images[0], cmap='gray')\n",
    "plt.colorbar()\n",
    "plt.title(f\"Label: {train_labels[0]}\")\n",
    "plt.show()\n",
    "\n",
    "# Get min and max values of pixel intensities\n",
    "min_pixel_value = np.min(train_images) \n",
    "max_pixel_value = np.max(train_images) \n",
    "\n",
    "print(f\"Min pixel value: {min_pixel_value}\") # Minimum value is 0, so black = 0\n",
    "print(f\"Max pixel value: {max_pixel_value}\") # Max value is 255, so white = 255"
   ]
  },
  {
   "cell_type": "markdown",
   "id": "c5898bae-fd91-43d7-b04e-e09891b8f939",
   "metadata": {},
   "source": [
    "### Normalizing the data"
   ]
  },
  {
   "cell_type": "code",
   "execution_count": 12,
   "id": "a4250793-2b30-470f-9f23-97a66c4c9935",
   "metadata": {},
   "outputs": [
    {
     "name": "stdout",
     "output_type": "stream",
     "text": [
      "Min pixel value after normalization: 0.0\n",
      "Max pixel value after normalization: 1.0\n"
     ]
    }
   ],
   "source": [
    "# 255 is a big value, so lets normalize the data to a range between 0 and 1\n",
    "if train_images.max() == 255: # if statement, just so I don't accidentally divide the data by 255 twice\n",
    "    train_images = train_images.astype('float32') / 255.0\n",
    "    test_images = test_images.astype('float32') / 255.0\n",
    "\n",
    "# And to verify the normalization\n",
    "print(f\"Min pixel value after normalization: {train_images.min()}\")\n",
    "print(f\"Max pixel value after normalization: {train_images.max()}\")"
   ]
  },
  {
   "cell_type": "markdown",
   "id": "96acdf9a-0f84-445e-9ccc-4516099eb7f1",
   "metadata": {},
   "source": [
    "### Convert images to vectors"
   ]
  },
  {
   "cell_type": "code",
   "execution_count": 13,
   "id": "ff0638b7-27ba-442d-bba5-cf2e91d8b5c8",
   "metadata": {},
   "outputs": [
    {
     "name": "stdout",
     "output_type": "stream",
     "text": [
      "60000\n",
      "New shape of training images: (60000, 784)\n",
      "New shape of test images: (10000, 784)\n"
     ]
    }
   ],
   "source": [
    "# The neural net I want to use only accepts vectors, so let's reshape the 2d imageinto a 1d vector.\n",
    "\n",
    "# train_images.shape[0] gives the number of images\n",
    "# -1 tells NumPy to calculate the size of this dimension automatically\n",
    "train_images_flattened = train_images.reshape(train_images.shape[0], -1)\n",
    "test_images_flattened = test_images.reshape(test_images.shape[0], -1)\n",
    "\n",
    "# Verify the new shape\n",
    "print(f\"New shape of training images: {train_images_flattened.shape}\")\n",
    "print(f\"New shape of test images: {test_images_flattened.shape}\")"
   ]
  },
  {
   "cell_type": "markdown",
   "id": "0bda8abc-433f-47ef-b4e9-ab9b6c832768",
   "metadata": {},
   "source": [
    "### Initial test NN"
   ]
  },
  {
   "cell_type": "code",
   "execution_count": 15,
   "id": "ed3e0d55-89e4-41b7-9a20-535138411ebf",
   "metadata": {},
   "outputs": [
    {
     "name": "stdout",
     "output_type": "stream",
     "text": [
      "Model: \"sequential_1\"\n",
      "_________________________________________________________________\n",
      " Layer (type)                Output Shape              Param #   \n",
      "=================================================================\n",
      " dense_3 (Dense)             (None, 128)               100480    \n",
      "                                                                 \n",
      " dense_4 (Dense)             (None, 64)                8256      \n",
      "                                                                 \n",
      " dense_5 (Dense)             (None, 10)                650       \n",
      "                                                                 \n",
      "=================================================================\n",
      "Total params: 109386 (427.29 KB)\n",
      "Trainable params: 109386 (427.29 KB)\n",
      "Non-trainable params: 0 (0.00 Byte)\n",
      "_________________________________________________________________\n"
     ]
    }
   ],
   "source": [
    "from tensorflow.keras.models import Sequential\n",
    "from tensorflow.keras.layers import Dense\n",
    "from tensorflow.keras.optimizers import Adam\n",
    "\n",
    "# We're going to use two hidden layers, the first with 128, and the second with 64. Both using Relu as the activation function.\n",
    "model = Sequential([\n",
    "    Dense(128, activation='relu', input_shape=(784,)),\n",
    "    Dense(64, activation='relu'),\n",
    "    Dense(10, activation='softmax')\n",
    "])\n",
    "\n",
    "# Compile the model\n",
    "model.compile(optimizer=Adam(learning_rate=0.001), \n",
    "              loss='sparse_categorical_crossentropy', \n",
    "              metrics=['accuracy'])\n",
    "\n",
    "# Print the model summary\n",
    "model.summary()"
   ]
  },
  {
   "cell_type": "code",
   "execution_count": 16,
   "id": "fda6e779-f19c-495e-9c1e-239343fbf121",
   "metadata": {},
   "outputs": [
    {
     "name": "stdout",
     "output_type": "stream",
     "text": [
      "Epoch 1/10\n",
      "1500/1500 [==============================] - 3s 2ms/step - loss: 0.2673 - accuracy: 0.9211 - val_loss: 0.1257 - val_accuracy: 0.9632\n",
      "Epoch 2/10\n",
      "1500/1500 [==============================] - 3s 2ms/step - loss: 0.1114 - accuracy: 0.9671 - val_loss: 0.1018 - val_accuracy: 0.9711\n",
      "Epoch 3/10\n",
      "1500/1500 [==============================] - 3s 2ms/step - loss: 0.0759 - accuracy: 0.9774 - val_loss: 0.1073 - val_accuracy: 0.9682\n",
      "Epoch 4/10\n",
      "1500/1500 [==============================] - 3s 2ms/step - loss: 0.0574 - accuracy: 0.9818 - val_loss: 0.0999 - val_accuracy: 0.9732\n",
      "Epoch 5/10\n",
      "1500/1500 [==============================] - 3s 2ms/step - loss: 0.0443 - accuracy: 0.9860 - val_loss: 0.0917 - val_accuracy: 0.9739\n",
      "Epoch 6/10\n",
      "1500/1500 [==============================] - 3s 2ms/step - loss: 0.0359 - accuracy: 0.9882 - val_loss: 0.0946 - val_accuracy: 0.9759\n",
      "Epoch 7/10\n",
      "1500/1500 [==============================] - 3s 2ms/step - loss: 0.0289 - accuracy: 0.9908 - val_loss: 0.0954 - val_accuracy: 0.9753\n",
      "Epoch 8/10\n",
      "1500/1500 [==============================] - 3s 2ms/step - loss: 0.0262 - accuracy: 0.9916 - val_loss: 0.1315 - val_accuracy: 0.9672\n",
      "Epoch 9/10\n",
      "1500/1500 [==============================] - 3s 2ms/step - loss: 0.0219 - accuracy: 0.9929 - val_loss: 0.1085 - val_accuracy: 0.9770\n",
      "Epoch 10/10\n",
      "1500/1500 [==============================] - 3s 2ms/step - loss: 0.0181 - accuracy: 0.9940 - val_loss: 0.1221 - val_accuracy: 0.9716\n",
      "313/313 [==============================] - 0s 910us/step - loss: 0.1101 - accuracy: 0.9721\n",
      "Test accuracy: 0.9721\n"
     ]
    }
   ],
   "source": [
    "# Then to train the model we compiled above\n",
    "history = model.fit(train_images_flattened, train_labels, \n",
    "                    epochs=10, \n",
    "                    batch_size=32, \n",
    "                    validation_split=0.2) # 20% of the training set is used to validate the model\n",
    "\n",
    "# let's see what the accuracy of the model is using the test data\n",
    "test_loss, test_accuracy = model.evaluate(test_images_flattened, test_labels)\n",
    "print(f\"Test accuracy: {test_accuracy:.4f}\")"
   ]
  },
  {
   "cell_type": "code",
   "execution_count": 17,
   "id": "282dc085-5351-47f8-a916-df22435a9cd1",
   "metadata": {},
   "outputs": [
    {
     "data": {
      "image/png": "[encoded data removed]",
      "text/plain": [
       "<Figure size 640x480 with 1 Axes>"
      ]
     },
     "metadata": {},
     "output_type": "display_data"
    }
   ],
   "source": [
    "import matplotlib.pyplot as plt\n",
    "\n",
    "# Plot training & validation loss values\n",
    "plt.plot(history.history['loss'])\n",
    "plt.plot(history.history['val_loss'])\n",
    "plt.title('Model loss')\n",
    "plt.ylabel('Loss')\n",
    "plt.xlabel('Epoch')\n",
    "plt.legend(['Train', 'Validation'], loc='upper left')\n",
    "plt.show()"
   ]
  }
 ],
 "metadata": {
  "kernelspec": {
   "display_name": "Python 3 (ipykernel)",
   "language": "python",
   "name": "python3"
  },
  "language_info": {
   "codemirror_mode": {
    "name": "ipython",
    "version": 3
   },
   "file_extension": ".py",
   "mimetype": "text/x-python",
   "name": "python",
   "nbconvert_exporter": "python",
   "pygments_lexer": "ipython3",
   "version": "3.11.1"
  }
 },
 "nbformat": 4,
 "nbformat_minor": 5
}
