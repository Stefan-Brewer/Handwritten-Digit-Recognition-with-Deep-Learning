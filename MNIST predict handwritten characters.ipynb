{
 "cells": [
  {
   "cell_type": "markdown",
   "id": "168c1b27-c7db-4a7e-93a2-b8160e2073a3",
   "metadata": {},
   "source": [
    "### Predicting handwritten digits using deep learning"
   ]
  },
  {
   "cell_type": "code",
   "execution_count": 3,
   "id": "cb27a9c4-646b-48a6-b564-7cfd6ad2728b",
   "metadata": {},
   "outputs": [
    {
     "name": "stdout",
     "output_type": "stream",
     "text": [
      "Training data shape: (60000, 28, 28), Training labels shape: (60000,)\n",
      "Test data shape: (10000, 28, 28), Test labels shape: (10000,)\n"
     ]
    }
   ],
   "source": [
    "import pandas as pd\n",
    "import numpy as np\n",
    "import matplotlib.pyplot as plt\n",
    "from tensorflow.keras.datasets import mnist\n",
    "from sklearn.model_selection import train_test_split\n",
    "\n",
    "# Let's load the dataset using keras\n",
    "(train_images, train_labels), (test_images,test_labels) = mnist.load_data()\n",
    "\n",
    "# Display the shape of the dataset\n",
    "print(f\"Training data shape: {train_images.shape}, Training labels shape: {train_labels.shape}\")\n",
    "print(f\"Test data shape: {test_images.shape}, Test labels shape: {test_labels.shape}\")"
   ]
  },
  {
   "cell_type": "markdown",
   "id": "fc6fb8a6-50b0-400b-88a9-fc7f12e7a6ca",
   "metadata": {},
   "source": [
    "### Visualizing the data"
   ]
  },
  {
   "cell_type": "code",
   "execution_count": 4,
   "id": "0eab748b-6bc9-470f-9b3a-9014e00ad957",
   "metadata": {},
   "outputs": [
    {
     "data": {
      "image/png": "[encoded data removed]",
      "text/plain": [
       "<Figure size 500x500 with 2 Axes>"
      ]
     },
     "metadata": {},
     "output_type": "display_data"
    },
    {
     "name": "stdout",
     "output_type": "stream",
     "text": [
      "Min pixel value: 0\n",
      "Max pixel value: 255\n"
     ]
    }
   ],
   "source": [
    "# This is the first time taking a look at the MNIST dataset , so I want to take a good look at what the data looks like.\n",
    "\n",
    "# Let's look at the first image\n",
    "plt.figure(figsize=(5,5))\n",
    "plt.imshow(train_images[0], cmap='gray')\n",
    "plt.colorbar()\n",
    "plt.title(f\"Label: {train_labels[0]}\")\n",
    "plt.show()\n",
    "\n",
    "# Get min and max values of pixel intensities\n",
    "min_pixel_value = np.min(train_images) \n",
    "max_pixel_value = np.max(train_images) \n",
    "\n",
    "print(f\"Min pixel value: {min_pixel_value}\") # Minimum value is 0, so black = 0\n",
    "print(f\"Max pixel value: {max_pixel_value}\") # Max value is 255, so white = 255"
   ]
  },
  {
   "cell_type": "markdown",
   "id": "c5898bae-fd91-43d7-b04e-e09891b8f939",
   "metadata": {},
   "source": [
    "### Normalizing the data"
   ]
  },
  {
   "cell_type": "code",
   "execution_count": 5,
   "id": "a4250793-2b30-470f-9f23-97a66c4c9935",
   "metadata": {},
   "outputs": [
    {
     "name": "stdout",
     "output_type": "stream",
     "text": [
      "Min pixel value after normalization: 0.0\n",
      "Max pixel value after normalization: 1.0\n"
     ]
    }
   ],
   "source": [
    "# 255 is a big value, so lets normalize the data to a range between 0 and 1\n",
    "if train_images.max() == 255: # if statement, just so I don't accidentally divide the data by 255 twice\n",
    "    train_images = train_images.astype('float32') / 255.0\n",
    "    test_images = test_images.astype('float32') / 255.0\n",
    "\n",
    "# And to verify the normalization\n",
    "print(f\"Min pixel value after normalization: {train_images.min()}\")\n",
    "print(f\"Max pixel value after normalization: {train_images.max()}\")"
   ]
  },
  {
   "cell_type": "markdown",
   "id": "96acdf9a-0f84-445e-9ccc-4516099eb7f1",
   "metadata": {},
   "source": [
    "### Convert images to vectors"
   ]
  },
  {
   "cell_type": "code",
   "execution_count": 6,
   "id": "ff0638b7-27ba-442d-bba5-cf2e91d8b5c8",
   "metadata": {},
   "outputs": [
    {
     "name": "stdout",
     "output_type": "stream",
     "text": [
      "New shape of training images: (60000, 784)\n",
      "New shape of test images: (10000, 784)\n"
     ]
    }
   ],
   "source": [
    "# The neural net I want to use only accepts vectors, so let's reshape the 2d imageinto a 1d vector.\n",
    "\n",
    "# train_images.shape[0] gives the number of images\n",
    "# -1 tells NumPy to calculate the size of this dimension automatically\n",
    "train_images_flattened = train_images.reshape(train_images.shape[0], -1)\n",
    "test_images_flattened = test_images.reshape(test_images.shape[0], -1)\n",
    "\n",
    "# Verify the new shape\n",
    "print(f\"New shape of training images: {train_images_flattened.shape}\")\n",
    "print(f\"New shape of test images: {test_images_flattened.shape}\")\n",
    "\n",
    "# Instead of a 28x28 image it is now a list of 784 numbers"
   ]
  },
  {
   "cell_type": "markdown",
   "id": "0bda8abc-433f-47ef-b4e9-ab9b6c832768",
   "metadata": {},
   "source": [
    "### Initial test NN"
   ]
  },
  {
   "cell_type": "code",
   "execution_count": 7,
   "id": "ed3e0d55-89e4-41b7-9a20-535138411ebf",
   "metadata": {},
   "outputs": [
    {
     "name": "stdout",
     "output_type": "stream",
     "text": [
      "Model: \"sequential\"\n",
      "_________________________________________________________________\n",
      " Layer (type)                Output Shape              Param #   \n",
      "=================================================================\n",
      " dense (Dense)               (None, 128)               100480    \n",
      "                                                                 \n",
      " dense_1 (Dense)             (None, 64)                8256      \n",
      "                                                                 \n",
      " dense_2 (Dense)             (None, 10)                650       \n",
      "                                                                 \n",
      "=================================================================\n",
      "Total params: 109,386\n",
      "Trainable params: 109,386\n",
      "Non-trainable params: 0\n",
      "_________________________________________________________________\n"
     ]
    }
   ],
   "source": [
    "from tensorflow.keras.models import Sequential\n",
    "from tensorflow.keras.layers import Dense\n",
    "from tensorflow.keras.optimizers import Adam\n",
    "\n",
    "# We're going to use two hidden layers, the first with 128, and the second with 64. Both using Relu as the activation function.\n",
    "model = Sequential([\n",
    "    Dense(128, activation='relu', input_shape=(784,)),\n",
    "    Dense(64, activation='relu'),\n",
    "    Dense(10, activation='softmax')\n",
    "])\n",
    "\n",
    "# Compile the model\n",
    "model.compile(optimizer=Adam(learning_rate=0.001), \n",
    "              loss='sparse_categorical_crossentropy', \n",
    "              metrics=['accuracy'])\n",
    "\n",
    "# Print the model summary\n",
    "model.summary()"
   ]
  },
  {
   "cell_type": "code",
   "execution_count": 8,
   "id": "fda6e779-f19c-495e-9c1e-239343fbf121",
   "metadata": {},
   "outputs": [
    {
     "name": "stdout",
     "output_type": "stream",
     "text": [
      "Epoch 1/10\n",
      "1500/1500 [==============================] - 4s 2ms/step - loss: 0.2552 - accuracy: 0.9269 - val_loss: 0.1375 - val_accuracy: 0.9614\n",
      "Epoch 2/10\n",
      "1500/1500 [==============================] - 3s 2ms/step - loss: 0.1084 - accuracy: 0.9676 - val_loss: 0.1013 - val_accuracy: 0.9693\n",
      "Epoch 3/10\n",
      "1500/1500 [==============================] - 3s 2ms/step - loss: 0.0763 - accuracy: 0.9760 - val_loss: 0.0944 - val_accuracy: 0.9712\n",
      "Epoch 4/10\n",
      "1500/1500 [==============================] - 3s 2ms/step - loss: 0.0574 - accuracy: 0.9822 - val_loss: 0.0992 - val_accuracy: 0.9705\n",
      "Epoch 5/10\n",
      "1500/1500 [==============================] - 3s 2ms/step - loss: 0.0456 - accuracy: 0.9852 - val_loss: 0.1014 - val_accuracy: 0.9722\n",
      "Epoch 6/10\n",
      "1500/1500 [==============================] - 3s 2ms/step - loss: 0.0352 - accuracy: 0.9881 - val_loss: 0.1059 - val_accuracy: 0.9729\n",
      "Epoch 7/10\n",
      "1500/1500 [==============================] - 3s 2ms/step - loss: 0.0307 - accuracy: 0.9899 - val_loss: 0.1054 - val_accuracy: 0.9740\n",
      "Epoch 8/10\n",
      "1500/1500 [==============================] - 3s 2ms/step - loss: 0.0242 - accuracy: 0.9919 - val_loss: 0.0920 - val_accuracy: 0.9772\n",
      "Epoch 9/10\n",
      "1500/1500 [==============================] - 3s 2ms/step - loss: 0.0223 - accuracy: 0.9923 - val_loss: 0.1044 - val_accuracy: 0.9737\n",
      "Epoch 10/10\n",
      "1500/1500 [==============================] - 4s 2ms/step - loss: 0.0176 - accuracy: 0.9941 - val_loss: 0.1015 - val_accuracy: 0.9772\n",
      "313/313 [==============================] - 1s 1ms/step - loss: 0.0900 - accuracy: 0.9773\n",
      "Test accuracy: 0.9773\n"
     ]
    }
   ],
   "source": [
    "# Then to train the model we compiled above\n",
    "history = model.fit(train_images_flattened, train_labels, \n",
    "                    epochs=10, \n",
    "                    batch_size=32, \n",
    "                    validation_split=0.2) # 20% of the training set is used to validate the model\n",
    "\n",
    "# let's see what the accuracy of the model is using the test data\n",
    "test_loss, test_accuracy = model.evaluate(test_images_flattened, test_labels)\n",
    "print(f\"Test accuracy: {test_accuracy:.4f}\")"
   ]
  },
  {
   "cell_type": "code",
   "execution_count": 9,
   "id": "282dc085-5351-47f8-a916-df22435a9cd1",
   "metadata": {},
   "outputs": [
    {
     "data": {
      "image/png": "[encoded data removed]",
      "text/plain": [
       "<Figure size 640x480 with 1 Axes>"
      ]
     },
     "metadata": {},
     "output_type": "display_data"
    }
   ],
   "source": [
    "# Plot training & validation loss values\n",
    "plt.plot(history.history['loss'])\n",
    "plt.plot(history.history['val_loss'])\n",
    "plt.title('Model loss')\n",
    "plt.ylabel('Loss')\n",
    "plt.xlabel('Epoch')\n",
    "plt.legend(['Train', 'Validation'], loc='upper left')\n",
    "plt.show()"
   ]
  },
  {
   "cell_type": "markdown",
   "id": "307244fc-1e2a-45a7-bf4a-96f5eb64179f",
   "metadata": {},
   "source": [
    "### Lets try a simple grid search to find good hyperparameters"
   ]
  },
  {
   "cell_type": "code",
   "execution_count": 10,
   "id": "149e3346-cd06-441c-9985-e76fac465fba",
   "metadata": {
    "scrolled": true
   },
   "outputs": [
    {
     "name": "stdout",
     "output_type": "stream",
     "text": [
      "\n",
      "Training model with 1 layers and 128 neurons per layer...\n",
      "Validation accuracy: 0.9765\n",
      "\n",
      "\n",
      "Training model with 1 layers and 64 neurons per layer...\n",
      "Validation accuracy: 0.9728\n",
      "\n",
      "\n",
      "Training model with 1 layers and 32 neurons per layer...\n",
      "Validation accuracy: 0.9622\n",
      "\n",
      "\n",
      "Training model with 1 layers and 16 neurons per layer...\n",
      "Validation accuracy: 0.9519\n",
      "\n",
      "\n",
      "Training model with 2 layers and 128 neurons per layer...\n",
      "Validation accuracy: 0.9762\n",
      "\n",
      "\n",
      "Training model with 2 layers and 64 neurons per layer...\n",
      "Validation accuracy: 0.9664\n",
      "\n",
      "\n",
      "Training model with 2 layers and 32 neurons per layer...\n",
      "Validation accuracy: 0.9642\n",
      "\n",
      "\n",
      "Training model with 2 layers and 16 neurons per layer...\n",
      "Validation accuracy: 0.9527\n",
      "\n",
      "\n",
      "Training model with 3 layers and 128 neurons per layer...\n",
      "Validation accuracy: 0.9743\n",
      "\n",
      "\n",
      "Training model with 3 layers and 64 neurons per layer...\n",
      "Validation accuracy: 0.9679\n",
      "\n",
      "\n",
      "Training model with 3 layers and 32 neurons per layer...\n",
      "Validation accuracy: 0.9661\n",
      "\n",
      "\n",
      "Training model with 3 layers and 16 neurons per layer...\n",
      "Validation accuracy: 0.9536\n",
      "\n",
      "Best validation accuracy: 0.9765 with layers: 1 and neurons: 128\n"
     ]
    }
   ],
   "source": [
    "# A function to create a model, with as inputs the amount of layers and neurons as hyperparameters.\n",
    "def create_model(layers, neurons):\n",
    "    model = Sequential()\n",
    "    model.add(Dense(neurons, input_shape=(784,), activation='relu'))\n",
    "    \n",
    "    for _ in range(layers - 1):\n",
    "        model.add(Dense(neurons, activation='relu'))\n",
    "    \n",
    "    model.add(Dense(10, activation='softmax'))\n",
    "    model.compile(optimizer=Adam(), loss='sparse_categorical_crossentropy', metrics=['accuracy'])\n",
    "    return model\n",
    "\n",
    "# Hyperparameters to try\n",
    "layers_options = [1, 2, 3]\n",
    "neurons_options = [128, 64, 32, 16]\n",
    "epoch = 10\n",
    "\n",
    "# Variables to store the best configuration\n",
    "best_accuracy = 0\n",
    "best_params = {'layers': None, 'neurons': None}\n",
    "\n",
    "# Perform the grid search\n",
    "for layers in layers_options:\n",
    "    for neurons in neurons_options:\n",
    "        \n",
    "        model = create_model(layers, neurons)\n",
    "        \n",
    "        # Train the model\n",
    "        history = model.fit(train_images_flattened, train_labels, \n",
    "                            epochs=epoch, \n",
    "                            batch_size=32, \n",
    "                            validation_split=0.2, \n",
    "                            verbose=0)\n",
    "        \n",
    "        # Get the accuracy on the validation set\n",
    "        val_accuracy = history.history['val_accuracy'][-1]\n",
    "\n",
    "        # Note, there's a warning for each epoch about AutoGraph not being able to transform. I tried fixing it, or to silence the warning, but was unable to.\n",
    "        # Because of this, I printed these together, to make sure it is clear what accurace score belongs to what hyperparameters\n",
    "        print(\"\")\n",
    "        print(f\"Training model with {layers} layers and {neurons} neurons per layer...\")\n",
    "        print(f\"Validation accuracy: {val_accuracy:.4f}\")\n",
    "        print(\"\")\n",
    "        \n",
    "        # Check if this is the best model\n",
    "        if val_accuracy > best_accuracy:\n",
    "            best_accuracy = val_accuracy\n",
    "            best_params['layers'] = layers\n",
    "            best_params['neurons'] = neurons\n",
    "\n",
    "print(f\"Best validation accuracy: {best_accuracy:.4f} with layers: {best_params['layers']} and neurons: {best_params['neurons']}\")\n",
    "\n"
   ]
  },
  {
   "cell_type": "markdown",
   "id": "1cbcf95a-91b3-4d8e-a797-fdc7b1bd2336",
   "metadata": {},
   "source": [
    "### Result:  \n",
    "Best validation accuracy: 0.9741 with layers: 1 and neurons: 128  \n",
    "\n",
    "Interestingly, the best score was from the neural net with the least layers, but the most neurons.  \n",
    "Maybe it is worth a try to increase the neurons further, while keeping the amount of layers at 1?"
   ]
  },
  {
   "cell_type": "code",
   "execution_count": 11,
   "id": "091f6e4c-a361-48b7-8fec-1b04869b2cc6",
   "metadata": {},
   "outputs": [
    {
     "name": "stdout",
     "output_type": "stream",
     "text": [
      "\n",
      "Training model with 256 neurons...\n",
      "Validation accuracy: 0.9788\n",
      "\n",
      "\n",
      "Training model with 512 neurons...\n",
      "Validation accuracy: 0.9806\n",
      "\n",
      "\n",
      "Training model with 1024 neurons...\n",
      "Validation accuracy: 0.9771\n",
      "\n",
      "Best validation accuracy: 0.9806 with neurons: 512\n"
     ]
    }
   ],
   "source": [
    "# Hyperparameters to try\n",
    "layers_options = [1]\n",
    "neurons_options = [256, 512, 1024]\n",
    "\n",
    "# Variables to store the best configuration\n",
    "best_accuracy = 0\n",
    "best_params = None\n",
    "\n",
    "# Perform the grid search\n",
    "for neurons in neurons_options:\n",
    "    \n",
    "    model = create_model(layers_options[0], neurons)\n",
    "        \n",
    "    # Train the model\n",
    "    history = model.fit(train_images_flattened, train_labels, \n",
    "                        epochs=epoch, \n",
    "                        batch_size=32, \n",
    "                        validation_split=0.2, \n",
    "                        verbose=0)\n",
    "        \n",
    "    # Get the accuracy on the validation set\n",
    "    val_accuracy = history.history['val_accuracy'][-1]\n",
    "\n",
    "    # Note, there's a warning for each epoch about AutoGraph not being able to transform. I tried fixing it, or to silence the warning, but was unable to.\n",
    "    # Because of this, I printed these together, to make sure it is clear what accurace score belongs to what hyperparameters\n",
    "    print(\"\")\n",
    "    print(f\"Training model with {neurons} neurons...\")\n",
    "    print(f\"Validation accuracy: {val_accuracy:.4f}\")\n",
    "    print(\"\")\n",
    "        \n",
    "    # Check if this is the best model\n",
    "    if val_accuracy > best_accuracy:\n",
    "        best_accuracy = val_accuracy\n",
    "        best_params = neurons\n",
    "\n",
    "print(f\"Best validation accuracy: {best_accuracy:.4f} with neurons: {best_params}\")"
   ]
  },
  {
   "cell_type": "markdown",
   "id": "056c10fe-b757-4350-957f-d83e593e08f6",
   "metadata": {},
   "source": [
    "### Result\n",
    "It looks like the accurace improves until we hit 512 neurons, and then drops.  \n",
    "The 512 neuron model has an accuracy of 98.06%. So about 1 out of 50 it still gets wrong."
   ]
  },
  {
   "cell_type": "code",
   "execution_count": 12,
   "id": "fc86153b-c89b-4359-a567-63d524fe065f",
   "metadata": {},
   "outputs": [
    {
     "name": "stdout",
     "output_type": "stream",
     "text": [
      "Epoch 1/50\n",
      "1500/1500 [==============================] - 6s 4ms/step - loss: 0.2439 - accuracy: 0.9272 - val_loss: 0.1228 - val_accuracy: 0.9643\n",
      "Epoch 2/50\n",
      "1500/1500 [==============================] - 6s 4ms/step - loss: 0.1060 - accuracy: 0.9676 - val_loss: 0.1080 - val_accuracy: 0.9689\n",
      "Epoch 3/50\n",
      "1500/1500 [==============================] - 6s 4ms/step - loss: 0.0746 - accuracy: 0.9772 - val_loss: 0.0839 - val_accuracy: 0.9742\n",
      "Epoch 4/50\n",
      "1500/1500 [==============================] - 6s 4ms/step - loss: 0.0566 - accuracy: 0.9820 - val_loss: 0.0802 - val_accuracy: 0.9758\n",
      "Epoch 5/50\n",
      "1500/1500 [==============================] - 7s 4ms/step - loss: 0.0454 - accuracy: 0.9856 - val_loss: 0.0852 - val_accuracy: 0.9741\n",
      "Epoch 6/50\n",
      "1500/1500 [==============================] - 6s 4ms/step - loss: 0.0372 - accuracy: 0.9874 - val_loss: 0.0874 - val_accuracy: 0.9768\n",
      "Epoch 7/50\n",
      "1500/1500 [==============================] - 6s 4ms/step - loss: 0.0333 - accuracy: 0.9886 - val_loss: 0.0797 - val_accuracy: 0.9795\n",
      "Epoch 8/50\n",
      "1500/1500 [==============================] - 7s 4ms/step - loss: 0.0271 - accuracy: 0.9912 - val_loss: 0.0877 - val_accuracy: 0.9774\n",
      "Epoch 9/50\n",
      "1500/1500 [==============================] - 6s 4ms/step - loss: 0.0242 - accuracy: 0.9918 - val_loss: 0.0813 - val_accuracy: 0.9786\n",
      "Epoch 10/50\n",
      "1500/1500 [==============================] - 6s 4ms/step - loss: 0.0224 - accuracy: 0.9920 - val_loss: 0.0860 - val_accuracy: 0.9786\n",
      "Epoch 11/50\n",
      "1500/1500 [==============================] - 6s 4ms/step - loss: 0.0199 - accuracy: 0.9930 - val_loss: 0.0875 - val_accuracy: 0.9794\n",
      "Epoch 12/50\n",
      "1500/1500 [==============================] - 6s 4ms/step - loss: 0.0192 - accuracy: 0.9934 - val_loss: 0.0860 - val_accuracy: 0.9819\n",
      "Test accuracy: 0.9811\n"
     ]
    },
    {
     "data": {
      "image/png": "[encoded data removed]",
      "text/plain": [
       "<Figure size 640x480 with 1 Axes>"
      ]
     },
     "metadata": {},
     "output_type": "display_data"
    }
   ],
   "source": [
    "from tensorflow.keras.callbacks import EarlyStopping\n",
    "from tensorflow.keras.layers import Dropout\n",
    "# I got a suggestion to use Early stopping and dropout, to increase the accurace even further.\n",
    "# Dropout will randomly ignore neurons. This creates a kind of noise, and should reduce overfitting.\n",
    "# Earlystopping should stop the model from training once it can't get any better.\n",
    "\n",
    "# Function to create model with dropout\n",
    "def create_dropout_model(neurons, dropout_rate=0.2):\n",
    "    model = Sequential()\n",
    "    model.add(Dense(neurons, input_shape=(784,), activation='relu'))\n",
    "    model.add(Dropout(dropout_rate))\n",
    "    model.add(Dense(10, activation='softmax'))\n",
    "    model.compile(optimizer=Adam(), loss='sparse_categorical_crossentropy', metrics=['accuracy'])\n",
    "    return model\n",
    "\n",
    "# Create the best model with 512 neurons and dropout\n",
    "model = create_dropout_model(512, dropout_rate=0.2)\n",
    "\n",
    "# Early stopping\n",
    "early_stopping = EarlyStopping(monitor='val_loss', patience=5, restore_best_weights=True)\n",
    "\n",
    "# Train the model with early stopping\n",
    "history = model.fit(train_images_flattened, train_labels, \n",
    "                    epochs=50,  # Increase the number of epochs, as it should stop by itself when ready\n",
    "                    batch_size=32, \n",
    "                    validation_split=0.2, \n",
    "                    callbacks=[early_stopping], \n",
    "                    verbose=1)\n",
    "\n",
    "# Evaluate the model on the test set\n",
    "test_loss, test_accuracy = model.evaluate(test_images_flattened, test_labels, verbose=0)\n",
    "print(f\"Test accuracy: {test_accuracy:.4f}\")\n",
    "\n",
    "# Plot training history\n",
    "plt.plot(history.history['accuracy'], label='Train Accuracy')\n",
    "plt.plot(history.history['val_accuracy'], label='Validation Accuracy')\n",
    "plt.xlabel('Epochs')\n",
    "plt.ylabel('Accuracy')\n",
    "plt.legend()\n",
    "plt.show()"
   ]
  },
  {
   "cell_type": "markdown",
   "id": "3d99f44f-2697-4fc0-b3f7-81c9ab3cd4a6",
   "metadata": {},
   "source": [
    "### Result\n",
    "I got a slight increase in accuracy: 98.11%  \n",
    "It is not clear whether this is due to dropout, the extra epochs, or both.  \n",
    "\n",
    "  \n",
    "### Augment the data\n",
    "Let's try to augment the data. For each training example, I want to have the following:  \n",
    "the original images = This is the same as the training examples above. White = 1, black = 0  \n",
    "negative images = This looks at the shape of the negative space, or background, instead of the written numbers. White = 0, black = 1  \n",
    "scaled images = This looks at both the background and written numbers at the same time. White = 1, black = -1"
   ]
  },
  {
   "cell_type": "code",
   "execution_count": 15,
   "id": "cfaac6b0-8dca-4c40-92be-97d88df0acda",
   "metadata": {},
   "outputs": [
    {
     "name": "stdout",
     "output_type": "stream",
     "text": [
      "Augmented train images shape: (60000, 2352)\n",
      "Augmented test images shape: (10000, 2352)\n"
     ]
    }
   ],
   "source": [
    "# Function to augment data\n",
    "def augment_data(images):\n",
    "    # Normalize images to [0, 1]\n",
    "    images = images.astype('float32') / 255.0\n",
    "    \n",
    "    # Generate negative space features\n",
    "    negative_images = 1.0 - images\n",
    "    \n",
    "    # Generate scaled features to [-1, 1]\n",
    "    scaled_images = images * 2.0 - 1.0\n",
    "    \n",
    "    # Concatenate the original, negative, and scaled features along the second dimension\n",
    "    augmented_images = np.concatenate([images, negative_images, scaled_images], axis=1)\n",
    "    \n",
    "    return augmented_images\n",
    "\n",
    "# Apply the augmentation to training and test datasets\n",
    "augmented_train_images = augment_data(train_images_flattened)\n",
    "augmented_test_images = augment_data(test_images_flattened)\n",
    "\n",
    "# Print the new shape of the augmented datasets\n",
    "print(f\"Augmented train images shape: {augmented_train_images.shape}\")\n",
    "print(f\"Augmented test images shape: {augmented_test_images.shape}\")"
   ]
  },
  {
   "cell_type": "code",
   "execution_count": 18,
   "id": "998f3a22-5764-492c-bc2a-988650b80472",
   "metadata": {},
   "outputs": [
    {
     "name": "stdout",
     "output_type": "stream",
     "text": [
      "Epoch 1/5\n",
      "1500/1500 [==============================] - 50s 33ms/step - loss: 2.3057 - accuracy: 0.1125 - val_loss: 2.3021 - val_accuracy: 0.1060\n",
      "Epoch 2/5\n",
      "1500/1500 [==============================] - 51s 34ms/step - loss: 2.3011 - accuracy: 0.1140 - val_loss: 2.3021 - val_accuracy: 0.1060\n",
      "Epoch 3/5\n",
      "1500/1500 [==============================] - 52s 34ms/step - loss: 2.3011 - accuracy: 0.1140 - val_loss: 2.3021 - val_accuracy: 0.1060\n",
      "Epoch 4/5\n",
      "1500/1500 [==============================] - 51s 34ms/step - loss: 2.3011 - accuracy: 0.1140 - val_loss: 2.3020 - val_accuracy: 0.1060\n",
      "Epoch 5/5\n",
      "1500/1500 [==============================] - 49s 33ms/step - loss: 2.3012 - accuracy: 0.1140 - val_loss: 2.3022 - val_accuracy: 0.1060\n",
      "Test accuracy: 0.1135\n"
     ]
    },
    {
     "data": {
      "image/png": "[encoded data removed]",
      "text/plain": [
       "<Figure size 640x480 with 1 Axes>"
      ]
     },
     "metadata": {},
     "output_type": "display_data"
    }
   ],
   "source": [
    "# Let's do the same ar above, at first as a test\n",
    "\n",
    "# Function to create a simple neural network model\n",
    "def create_simple_model(input_shape):\n",
    "    model = Sequential()\n",
    "    model.add(Dense(64, input_shape=(input_shape,), activation='relu'))\n",
    "    model.add(Dense(10, activation='softmax'))\n",
    "    model.compile(optimizer=Adam(), loss='sparse_categorical_crossentropy', metrics=['accuracy'])\n",
    "    return model\n",
    "\n",
    "# Get the input shape from the augmented dataset\n",
    "input_shape = augmented_train_images.shape[1]\n",
    "\n",
    "# Create the model\n",
    "model = create_simple_model(input_shape)\n",
    "\n",
    "# Train the model\n",
    "history = model.fit(augmented_train_images, train_labels, \n",
    "                    epochs=5, \n",
    "                    batch_size=32, \n",
    "                    validation_split=0.2, \n",
    "                    verbose=1)\n",
    "\n",
    "# Evaluate the model on the test set\n",
    "test_loss, test_accuracy = model.evaluate(augmented_test_images, test_labels, verbose=0)\n",
    "print(f\"Test accuracy: {test_accuracy:.4f}\")\n",
    "\n",
    "# Plot training history\n",
    "plt.plot(history.history['accuracy'], label='Train Accuracy')\n",
    "plt.plot(history.history['val_accuracy'], label='Validation Accuracy')\n",
    "plt.xlabel('Epochs')\n",
    "plt.ylabel('Accuracy')\n",
    "plt.legend()\n",
    "plt.show()"
   ]
  },
  {
   "cell_type": "markdown",
   "id": "d34832c7-17e3-480a-85f0-91360928b47f",
   "metadata": {},
   "source": [
    "### Results\n",
    "That is horrible. The accuracy is basically no better than random guessing.  \n",
    "I guess the data is interfering with each other somehow?  \n",
    "Let's try this again, but separately for each image method"
   ]
  },
  {
   "cell_type": "code",
   "execution_count": 19,
   "id": "1d91aec8-618e-4aa8-a356-26130b396bf0",
   "metadata": {},
   "outputs": [
    {
     "name": "stdout",
     "output_type": "stream",
     "text": [
      "Train images (normalized) shape: (60000, 784)\n",
      "Train images (negative) shape: (60000, 784)\n",
      "Train images (scaled) shape: (60000, 784)\n"
     ]
    }
   ],
   "source": [
    "# Function to augment data\n",
    "def augment_data_separately(images):\n",
    "    # Normalize images to [0, 1]\n",
    "    images_normalized = images.astype('float32') / 255.0\n",
    "    \n",
    "    # Generate negative space features\n",
    "    negative_images = 1.0 - images_normalized\n",
    "    \n",
    "    # Generate scaled features to [-1, 1]\n",
    "    scaled_images = images_normalized * 2.0 - 1.0\n",
    "    \n",
    "    return images_normalized, negative_images, scaled_images\n",
    "\n",
    "# Apply the augmentation to training and test datasets\n",
    "train_images_normalized, train_images_negative, train_images_scaled = augment_data_separately(train_images_flattened)\n",
    "test_images_normalized, test_images_negative, test_images_scaled = augment_data_separately(test_images_flattened)\n",
    "\n",
    "# Print the new shape of the augmented datasets\n",
    "print(f\"Train images (normalized) shape: {train_images_normalized.shape}\")\n",
    "print(f\"Train images (negative) shape: {train_images_negative.shape}\")\n",
    "print(f\"Train images (scaled) shape: {train_images_scaled.shape}\")\n"
   ]
  },
  {
   "cell_type": "code",
   "execution_count": 20,
   "id": "195a59c6-f1a4-4ff5-a0b5-856f5d486cc9",
   "metadata": {},
   "outputs": [
    {
     "name": "stdout",
     "output_type": "stream",
     "text": [
      "Epoch 1/20\n",
      "1500/1500 [==============================] - 4s 3ms/step - loss: 1.4778 - accuracy: 0.6440 - val_loss: 0.8163 - val_accuracy: 0.8229\n",
      "Epoch 2/20\n",
      "1500/1500 [==============================] - 3s 2ms/step - loss: 0.6590 - accuracy: 0.8393 - val_loss: 0.5125 - val_accuracy: 0.8727\n",
      "Epoch 3/20\n",
      "1500/1500 [==============================] - 4s 2ms/step - loss: 0.4824 - accuracy: 0.8744 - val_loss: 0.4132 - val_accuracy: 0.8920\n",
      "Epoch 4/20\n",
      "1500/1500 [==============================] - 4s 3ms/step - loss: 0.4118 - accuracy: 0.8893 - val_loss: 0.3665 - val_accuracy: 0.9012\n",
      "Epoch 5/20\n",
      "1500/1500 [==============================] - 4s 3ms/step - loss: 0.3737 - accuracy: 0.8970 - val_loss: 0.3386 - val_accuracy: 0.9055\n",
      "Epoch 6/20\n",
      "1500/1500 [==============================] - 4s 3ms/step - loss: 0.3502 - accuracy: 0.9023 - val_loss: 0.3211 - val_accuracy: 0.9103\n",
      "Epoch 7/20\n",
      "1500/1500 [==============================] - 4s 3ms/step - loss: 0.3334 - accuracy: 0.9064 - val_loss: 0.3072 - val_accuracy: 0.9139\n",
      "Epoch 8/20\n",
      "1500/1500 [==============================] - 5s 3ms/step - loss: 0.3203 - accuracy: 0.9101 - val_loss: 0.2958 - val_accuracy: 0.9158\n",
      "Epoch 9/20\n",
      "1500/1500 [==============================] - 4s 2ms/step - loss: 0.3094 - accuracy: 0.9120 - val_loss: 0.2869 - val_accuracy: 0.9183\n",
      "Epoch 10/20\n",
      "1500/1500 [==============================] - 4s 2ms/step - loss: 0.3002 - accuracy: 0.9141 - val_loss: 0.2793 - val_accuracy: 0.9206\n",
      "Epoch 11/20\n",
      "1500/1500 [==============================] - 3s 2ms/step - loss: 0.2922 - accuracy: 0.9160 - val_loss: 0.2710 - val_accuracy: 0.9230\n",
      "Epoch 12/20\n",
      "1500/1500 [==============================] - 4s 3ms/step - loss: 0.2849 - accuracy: 0.9179 - val_loss: 0.2661 - val_accuracy: 0.9235\n",
      "Epoch 13/20\n",
      "1500/1500 [==============================] - 4s 3ms/step - loss: 0.2787 - accuracy: 0.9197 - val_loss: 0.2602 - val_accuracy: 0.9252\n",
      "Epoch 14/20\n",
      "1500/1500 [==============================] - 4s 2ms/step - loss: 0.2727 - accuracy: 0.9220 - val_loss: 0.2556 - val_accuracy: 0.9269\n",
      "Epoch 15/20\n",
      "1500/1500 [==============================] - 4s 2ms/step - loss: 0.2666 - accuracy: 0.9231 - val_loss: 0.2506 - val_accuracy: 0.9277\n",
      "Epoch 16/20\n",
      "1500/1500 [==============================] - 5s 3ms/step - loss: 0.2606 - accuracy: 0.9247 - val_loss: 0.2482 - val_accuracy: 0.9293\n",
      "Epoch 17/20\n",
      "1500/1500 [==============================] - 7s 5ms/step - loss: 0.2551 - accuracy: 0.9261 - val_loss: 0.2407 - val_accuracy: 0.9316\n",
      "Epoch 18/20\n",
      "1500/1500 [==============================] - 9s 6ms/step - loss: 0.2497 - accuracy: 0.9277 - val_loss: 0.2385 - val_accuracy: 0.9337\n",
      "Epoch 19/20\n",
      "1500/1500 [==============================] - 8s 5ms/step - loss: 0.2444 - accuracy: 0.9290 - val_loss: 0.2326 - val_accuracy: 0.9342\n",
      "Epoch 20/20\n",
      "1500/1500 [==============================] - 8s 5ms/step - loss: 0.2391 - accuracy: 0.9312 - val_loss: 0.2287 - val_accuracy: 0.9341\n",
      "Epoch 1/20\n",
      "1500/1500 [==============================] - 10s 6ms/step - loss: 2.3071 - accuracy: 0.1119 - val_loss: 2.3023 - val_accuracy: 0.1060\n",
      "Epoch 2/20\n",
      "1500/1500 [==============================] - 9s 6ms/step - loss: 2.3011 - accuracy: 0.1140 - val_loss: 2.3020 - val_accuracy: 0.1060\n",
      "Epoch 3/20\n",
      "1500/1500 [==============================] - 8s 5ms/step - loss: 2.3012 - accuracy: 0.1140 - val_loss: 2.3021 - val_accuracy: 0.1060\n",
      "Epoch 4/20\n",
      "1500/1500 [==============================] - 10s 6ms/step - loss: 2.3012 - accuracy: 0.1140 - val_loss: 2.3021 - val_accuracy: 0.1060\n",
      "Epoch 5/20\n",
      "1500/1500 [==============================] - 8s 5ms/step - loss: 2.3012 - accuracy: 0.1140 - val_loss: 2.3021 - val_accuracy: 0.1060\n",
      "Epoch 6/20\n",
      "1500/1500 [==============================] - 8s 5ms/step - loss: 2.3012 - accuracy: 0.1140 - val_loss: 2.3020 - val_accuracy: 0.1060\n",
      "Epoch 7/20\n",
      "1500/1500 [==============================] - 10s 6ms/step - loss: 2.3011 - accuracy: 0.1140 - val_loss: 2.3021 - val_accuracy: 0.1060\n",
      "Epoch 8/20\n",
      "1500/1500 [==============================] - 9s 6ms/step - loss: 2.3012 - accuracy: 0.1140 - val_loss: 2.3021 - val_accuracy: 0.1060\n",
      "Epoch 9/20\n",
      "1500/1500 [==============================] - 9s 6ms/step - loss: 2.3011 - accuracy: 0.1140 - val_loss: 2.3022 - val_accuracy: 0.1060\n",
      "Epoch 10/20\n",
      "1500/1500 [==============================] - 9s 6ms/step - loss: 2.3011 - accuracy: 0.1140 - val_loss: 2.3023 - val_accuracy: 0.1060\n",
      "Epoch 11/20\n",
      "1500/1500 [==============================] - 8s 6ms/step - loss: 2.3012 - accuracy: 0.1140 - val_loss: 2.3022 - val_accuracy: 0.1060\n",
      "Epoch 12/20\n",
      "1500/1500 [==============================] - 8s 6ms/step - loss: 2.3012 - accuracy: 0.1140 - val_loss: 2.3022 - val_accuracy: 0.1060\n",
      "Epoch 13/20\n",
      "1500/1500 [==============================] - 8s 6ms/step - loss: 2.3012 - accuracy: 0.1140 - val_loss: 2.3022 - val_accuracy: 0.1060\n",
      "Epoch 14/20\n",
      "1500/1500 [==============================] - 10s 6ms/step - loss: 2.3012 - accuracy: 0.1140 - val_loss: 2.3021 - val_accuracy: 0.1060\n",
      "Epoch 15/20\n",
      "1500/1500 [==============================] - 11s 7ms/step - loss: 2.3012 - accuracy: 0.1140 - val_loss: 2.3021 - val_accuracy: 0.1060\n",
      "Epoch 16/20\n",
      "1500/1500 [==============================] - 8s 6ms/step - loss: 2.3012 - accuracy: 0.1140 - val_loss: 2.3021 - val_accuracy: 0.1060\n",
      "Epoch 17/20\n",
      "1500/1500 [==============================] - 10s 7ms/step - loss: 2.3011 - accuracy: 0.1140 - val_loss: 2.3020 - val_accuracy: 0.1060\n",
      "Epoch 18/20\n",
      "1500/1500 [==============================] - 10s 6ms/step - loss: 2.3011 - accuracy: 0.1140 - val_loss: 2.3021 - val_accuracy: 0.1060\n",
      "Epoch 19/20\n",
      "1500/1500 [==============================] - 7s 4ms/step - loss: 2.3012 - accuracy: 0.1140 - val_loss: 2.3021 - val_accuracy: 0.1060\n",
      "Epoch 20/20\n",
      "1500/1500 [==============================] - 6s 4ms/step - loss: 2.3012 - accuracy: 0.1140 - val_loss: 2.3021 - val_accuracy: 0.1060\n",
      "Epoch 1/20\n",
      "1500/1500 [==============================] - 5s 3ms/step - loss: 2.3053 - accuracy: 0.1124 - val_loss: 2.3021 - val_accuracy: 0.1060\n",
      "Epoch 2/20\n",
      "1500/1500 [==============================] - 4s 3ms/step - loss: 2.3012 - accuracy: 0.1140 - val_loss: 2.3022 - val_accuracy: 0.1060\n",
      "Epoch 3/20\n",
      "1500/1500 [==============================] - 4s 3ms/step - loss: 2.3011 - accuracy: 0.1140 - val_loss: 2.3021 - val_accuracy: 0.1060\n",
      "Epoch 4/20\n",
      "1500/1500 [==============================] - 6s 4ms/step - loss: 2.3011 - accuracy: 0.1140 - val_loss: 2.3021 - val_accuracy: 0.1060\n",
      "Epoch 5/20\n",
      "1500/1500 [==============================] - 4s 3ms/step - loss: 2.3012 - accuracy: 0.1140 - val_loss: 2.3023 - val_accuracy: 0.1060\n",
      "Epoch 6/20\n",
      "1500/1500 [==============================] - 4s 2ms/step - loss: 2.3012 - accuracy: 0.1140 - val_loss: 2.3021 - val_accuracy: 0.1060\n",
      "Epoch 7/20\n",
      "1500/1500 [==============================] - 4s 3ms/step - loss: 2.3012 - accuracy: 0.1140 - val_loss: 2.3020 - val_accuracy: 0.1060\n",
      "Epoch 8/20\n",
      "1500/1500 [==============================] - 4s 3ms/step - loss: 2.3011 - accuracy: 0.1140 - val_loss: 2.3021 - val_accuracy: 0.1060\n",
      "Epoch 9/20\n",
      "1500/1500 [==============================] - 4s 3ms/step - loss: 2.3012 - accuracy: 0.1140 - val_loss: 2.3022 - val_accuracy: 0.1060\n",
      "Epoch 10/20\n",
      "1500/1500 [==============================] - 4s 3ms/step - loss: 2.3011 - accuracy: 0.1140 - val_loss: 2.3021 - val_accuracy: 0.1060\n",
      "Epoch 11/20\n",
      "1500/1500 [==============================] - 4s 3ms/step - loss: 2.3011 - accuracy: 0.1140 - val_loss: 2.3021 - val_accuracy: 0.1060\n",
      "Epoch 12/20\n",
      "1500/1500 [==============================] - 4s 3ms/step - loss: 2.3011 - accuracy: 0.1140 - val_loss: 2.3023 - val_accuracy: 0.1060\n",
      "Epoch 13/20\n",
      "1500/1500 [==============================] - 4s 3ms/step - loss: 2.3012 - accuracy: 0.1140 - val_loss: 2.3021 - val_accuracy: 0.1060\n",
      "Epoch 14/20\n",
      "1500/1500 [==============================] - 4s 3ms/step - loss: 2.3011 - accuracy: 0.1140 - val_loss: 2.3022 - val_accuracy: 0.1060\n",
      "Epoch 15/20\n",
      "1500/1500 [==============================] - 4s 3ms/step - loss: 2.3012 - accuracy: 0.1140 - val_loss: 2.3022 - val_accuracy: 0.1060\n",
      "Epoch 16/20\n",
      "1500/1500 [==============================] - 4s 3ms/step - loss: 2.3012 - accuracy: 0.1140 - val_loss: 2.3022 - val_accuracy: 0.1060\n",
      "Epoch 17/20\n",
      "1500/1500 [==============================] - 4s 3ms/step - loss: 2.3012 - accuracy: 0.1140 - val_loss: 2.3023 - val_accuracy: 0.1060\n",
      "Epoch 18/20\n",
      "1500/1500 [==============================] - 4s 3ms/step - loss: 2.3011 - accuracy: 0.1140 - val_loss: 2.3022 - val_accuracy: 0.1060\n",
      "Epoch 19/20\n",
      "1500/1500 [==============================] - 4s 3ms/step - loss: 2.3012 - accuracy: 0.1140 - val_loss: 2.3022 - val_accuracy: 0.1060\n",
      "Epoch 20/20\n",
      "1500/1500 [==============================] - 4s 3ms/step - loss: 2.3011 - accuracy: 0.1140 - val_loss: 2.3023 - val_accuracy: 0.1060\n",
      "Test accuracy (normalized): 0.9324\n",
      "Test accuracy (negative): 0.1135\n",
      "Test accuracy (scaled): 0.1135\n"
     ]
    }
   ],
   "source": [
    "# Get the input shape from the dataset\n",
    "input_shape = train_images_normalized.shape[1]\n",
    "\n",
    "# Create the models\n",
    "model_normalized = create_simple_model(input_shape)\n",
    "model_negative = create_simple_model(input_shape)\n",
    "model_scaled = create_simple_model(input_shape)\n",
    "\n",
    "# Train the models\n",
    "history_normalized = model_normalized.fit(train_images_normalized, train_labels, \n",
    "                                          epochs=20, \n",
    "                                          batch_size=32, \n",
    "                                          validation_split=0.2, \n",
    "                                          verbose=1)\n",
    "\n",
    "history_negative = model_negative.fit(train_images_negative, train_labels, \n",
    "                                      epochs=20, \n",
    "                                      batch_size=32, \n",
    "                                      validation_split=0.2, \n",
    "                                      verbose=1)\n",
    "\n",
    "history_scaled = model_scaled.fit(train_images_scaled, train_labels, \n",
    "                                  epochs=20, \n",
    "                                  batch_size=32, \n",
    "                                  validation_split=0.2, \n",
    "                                  verbose=1)\n",
    "\n",
    "# Evaluate the models on the test set\n",
    "test_loss_normalized, test_accuracy_normalized = model_normalized.evaluate(test_images_normalized, test_labels, verbose=0)\n",
    "test_loss_negative, test_accuracy_negative = model_negative.evaluate(test_images_negative, test_labels, verbose=0)\n",
    "test_loss_scaled, test_accuracy_scaled = model_scaled.evaluate(test_images_scaled, test_labels, verbose=0)\n",
    "\n",
    "print(f\"Test accuracy (normalized): {test_accuracy_normalized:.4f}\")\n",
    "print(f\"Test accuracy (negative): {test_accuracy_negative:.4f}\")\n",
    "print(f\"Test accuracy (scaled): {test_accuracy_scaled:.4f}\")\n"
   ]
  },
  {
   "cell_type": "markdown",
   "id": "8bc65724-d0c6-449c-bcf8-1fe27c561c32",
   "metadata": {},
   "source": [
    "### Results\n",
    "Both the negative and the scaled set have an accuracy similar to random chance.  \n",
    "Not just that, it is the exact same.  \n",
    "Maybe they are both constantly predicting the same one digit?"
   ]
  },
  {
   "cell_type": "code",
   "execution_count": 21,
   "id": "0654cdef-69df-4e30-956c-65b0773ded06",
   "metadata": {},
   "outputs": [
    {
     "name": "stdout",
     "output_type": "stream",
     "text": [
      "313/313 [==============================] - 1s 3ms/step\n",
      "313/313 [==============================] - 1s 2ms/step\n",
      "313/313 [==============================] - 1s 2ms/step\n",
      "First 10 predictions (normalized): [7 2 1 0 4 1 4 9 6 9]\n",
      "First 10 predictions (negative): [1 1 1 1 1 1 1 1 1 1]\n",
      "First 10 predictions (scaled): [1 1 1 1 1 1 1 1 1 1]\n"
     ]
    }
   ],
   "source": [
    "# Get predictions from each model\n",
    "predictions_normalized = model_normalized.predict(test_images_normalized)\n",
    "predictions_negative = model_negative.predict(test_images_negative)\n",
    "predictions_scaled = model_scaled.predict(test_images_scaled)\n",
    "\n",
    "# Convert predictions to class labels\n",
    "predictions_normalized_labels = np.argmax(predictions_normalized, axis=1)\n",
    "predictions_negative_labels = np.argmax(predictions_negative, axis=1)\n",
    "predictions_scaled_labels = np.argmax(predictions_scaled, axis=1)\n",
    "\n",
    "# Print the first 10 predictions for each model\n",
    "print(f\"First 10 predictions (normalized): {predictions_normalized_labels[:10]}\")\n",
    "print(f\"First 10 predictions (negative): {predictions_negative_labels[:10]}\")\n",
    "print(f\"First 10 predictions (scaled): {predictions_scaled_labels[:10]}\")"
   ]
  },
  {
   "cell_type": "markdown",
   "id": "be7210db-b760-449e-b03f-ce89703f5313",
   "metadata": {},
   "source": [
    "Both the negative and scaled models just give a list of 1s, and only 1s. That is unexpected.\n",
    "Let's do some testing to see what might be going on."
   ]
  },
  {
   "cell_type": "code",
   "execution_count": 22,
   "id": "8a5e0c3d-aade-4324-86ea-63cf2409c43b",
   "metadata": {},
   "outputs": [
    {
     "data": {
      "image/png": "[encoded data removed]",
      "text/plain": [
       "<Figure size 1200x400 with 3 Axes>"
      ]
     },
     "metadata": {},
     "output_type": "display_data"
    },
    {
     "data": {
      "image/png": "[encoded data removed]",
      "text/plain": [
       "<Figure size 1200x400 with 3 Axes>"
      ]
     },
     "metadata": {},
     "output_type": "display_data"
    },
    {
     "data": {
      "image/png": "[encoded data removed]",
      "text/plain": [
       "<Figure size 1200x400 with 3 Axes>"
      ]
     },
     "metadata": {},
     "output_type": "display_data"
    }
   ],
   "source": [
    "# Function to plot original, negative, and scaled images for the first sample\n",
    "def plot_samples(index):\n",
    "    fig, axs = plt.subplots(1, 3, figsize=(12, 4))\n",
    "    \n",
    "    # Original image\n",
    "    original_image = train_images_flattened[index].reshape(28, 28)\n",
    "    axs[0].imshow(original_image, cmap='gray')\n",
    "    axs[0].set_title('Original')\n",
    "    \n",
    "    # Negative image\n",
    "    negative_image = train_images_negative[index].reshape(28, 28)\n",
    "    axs[1].imshow(negative_image, cmap='gray')\n",
    "    axs[1].set_title('Negative')\n",
    "    \n",
    "    # Scaled image\n",
    "    scaled_image = train_images_scaled[index].reshape(28, 28)\n",
    "    axs[2].imshow(scaled_image, cmap='gray')\n",
    "    axs[2].set_title('Scaled')\n",
    "    \n",
    "    plt.tight_layout()\n",
    "    plt.show()\n",
    "\n",
    "# Plot samples for the first few indices\n",
    "for i in range(3):\n",
    "    plot_samples(i)\n"
   ]
  },
  {
   "cell_type": "markdown",
   "id": "3587113b-af22-40c9-80f4-5d3828a48bbd",
   "metadata": {},
   "source": [
    "The images look totally fine, so I don't understand why the model is unable to figure it out."
   ]
  },
  {
   "cell_type": "code",
   "execution_count": 25,
   "id": "1419e5f8-1f34-4caf-b767-65401091d3da",
   "metadata": {},
   "outputs": [
    {
     "name": "stdout",
     "output_type": "stream",
     "text": [
      "Epoch 1/3\n",
      "375/375 [==============================] - 3s 7ms/step - loss: 1.0131 - accuracy: 0.6931 - val_loss: 0.4279 - val_accuracy: 0.8779\n",
      "Epoch 2/3\n",
      "375/375 [==============================] - 2s 6ms/step - loss: 0.4211 - accuracy: 0.8743 - val_loss: 0.3244 - val_accuracy: 0.9043\n",
      "Epoch 3/3\n",
      "375/375 [==============================] - 2s 6ms/step - loss: 0.3436 - accuracy: 0.8981 - val_loss: 0.2799 - val_accuracy: 0.9187\n",
      "Epoch 1/3\n",
      "375/375 [==============================] - 3s 7ms/step - loss: 2.3201 - accuracy: 0.1098 - val_loss: 2.3019 - val_accuracy: 0.1060\n",
      "Epoch 2/3\n",
      "375/375 [==============================] - 2s 6ms/step - loss: 2.3012 - accuracy: 0.1140 - val_loss: 2.3022 - val_accuracy: 0.1060\n",
      "Epoch 3/3\n",
      "375/375 [==============================] - 2s 6ms/step - loss: 2.3011 - accuracy: 0.1140 - val_loss: 2.3021 - val_accuracy: 0.1060\n",
      "Epoch 1/3\n",
      "375/375 [==============================] - 3s 7ms/step - loss: 2.3153 - accuracy: 0.1101 - val_loss: 2.3020 - val_accuracy: 0.1060\n",
      "Epoch 2/3\n",
      "375/375 [==============================] - 2s 6ms/step - loss: 2.3012 - accuracy: 0.1140 - val_loss: 2.3021 - val_accuracy: 0.1060\n",
      "Epoch 3/3\n",
      "375/375 [==============================] - 2s 6ms/step - loss: 2.3012 - accuracy: 0.1140 - val_loss: 2.3020 - val_accuracy: 0.1060\n",
      "Test accuracy (normalized): 0.9123\n",
      "Test accuracy (negative): 0.1135\n",
      "Test accuracy (scaled): 0.1135\n"
     ]
    }
   ],
   "source": [
    "# Function to create a more complex neural network model\n",
    "def create_complex_model(input_shape):\n",
    "    model = Sequential()\n",
    "    model.add(Dense(512, input_shape=(input_shape,), activation='relu'))\n",
    "    model.add(Dropout(0.2))\n",
    "    model.add(Dense(256, activation='relu'))\n",
    "    model.add(Dropout(0.2))\n",
    "    model.add(Dense(10, activation='softmax'))\n",
    "    model.compile(optimizer=Adam(), loss='sparse_categorical_crossentropy', metrics=['accuracy'])\n",
    "    return model\n",
    "\n",
    "# Get the input shape from the dataset\n",
    "input_shape = train_images_normalized.shape[1]\n",
    "\n",
    "# Create the models\n",
    "model_normalized = create_complex_model(input_shape)\n",
    "model_negative = create_complex_model(input_shape)\n",
    "model_scaled = create_complex_model(input_shape)\n",
    "\n",
    "# Train the models\n",
    "history_normalized = model_normalized.fit(train_images_normalized, train_labels, \n",
    "                                          epochs=3, # It is just a test to see if we gets only 1s again, so only 3 epochs to save time\n",
    "                                          batch_size=128, \n",
    "                                          validation_split=0.2, \n",
    "                                          verbose=1)\n",
    "\n",
    "history_negative = model_negative.fit(train_images_negative, train_labels, \n",
    "                                      epochs=3, \n",
    "                                      batch_size=128, \n",
    "                                      validation_split=0.2, \n",
    "                                      verbose=1)\n",
    "\n",
    "history_scaled = model_scaled.fit(train_images_scaled, train_labels, \n",
    "                                  epochs=3, \n",
    "                                  batch_size=128, \n",
    "                                  validation_split=0.2, \n",
    "                                  verbose=1)\n",
    "\n",
    "# Evaluate the models on the test set\n",
    "test_loss_normalized, test_accuracy_normalized = model_normalized.evaluate(test_images_normalized, test_labels, verbose=0)\n",
    "test_loss_negative, test_accuracy_negative = model_negative.evaluate(test_images_negative, test_labels, verbose=0)\n",
    "test_loss_scaled, test_accuracy_scaled = model_scaled.evaluate(test_images_scaled, test_labels, verbose=0)\n",
    "\n",
    "print(f\"Test accuracy (normalized): {test_accuracy_normalized:.4f}\")\n",
    "print(f\"Test accuracy (negative): {test_accuracy_negative:.4f}\")\n",
    "print(f\"Test accuracy (scaled): {test_accuracy_scaled:.4f}\")\n"
   ]
  },
  {
   "cell_type": "markdown",
   "id": "3e214403-f60f-4f0b-b250-09a76178db6c",
   "metadata": {},
   "source": [
    "### Result\n",
    "It still does the same thing. The original images do fine, and then the negative and scaled images mess up with the same exact accuracy scores.  \n",
    "This makes no sense at all.  \n",
    "\n",
    "I just used another jupyter notebook file to test this, and there it went fine."
   ]
  },
  {
   "cell_type": "code",
   "execution_count": null,
   "id": "06b9c743-4e88-4c1c-8a74-7fcf3677dba5",
   "metadata": {},
   "outputs": [],
   "source": []
  }
 ],
 "metadata": {
  "kernelspec": {
   "display_name": "Python 3 (ipykernel)",
   "language": "python",
   "name": "python3"
  },
  "language_info": {
   "codemirror_mode": {
    "name": "ipython",
    "version": 3
   },
   "file_extension": ".py",
   "mimetype": "text/x-python",
   "name": "python",
   "nbconvert_exporter": "python",
   "pygments_lexer": "ipython3",
   "version": "3.10.13"
  }
 },
 "nbformat": 4,
 "nbformat_minor": 5
}
